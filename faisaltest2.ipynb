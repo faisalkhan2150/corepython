{
 "cells": [
  {
   "cell_type": "markdown",
   "id": "9623714c",
   "metadata": {},
   "source": [
    "## q.1\n",
    "## l=['a','quick','brown','fox','jumps','over','the','lazy','dog']\n",
    "## 1) arrange the list in alphabetical order\n",
    "## 2) count the total letters and count of distinct letters in the list"
   ]
  },
  {
   "cell_type": "code",
   "execution_count": 48,
   "id": "9ab05498",
   "metadata": {},
   "outputs": [
    {
     "name": "stdout",
     "output_type": "stream",
     "text": [
      "['a', 'brown', 'dog', 'fox', 'jumps', 'lazy', 'over', 'quick', 'the']\n"
     ]
    }
   ],
   "source": [
    "l=['a','quick','brown','fox','jumps','over','the','lazy','dog']  #1) arrange the list in alphabetical order\n",
    "l.sort()\n",
    "print(l)"
   ]
  },
  {
   "cell_type": "code",
   "execution_count": 49,
   "id": "401a22a1",
   "metadata": {},
   "outputs": [
    {
     "data": {
      "text/plain": [
       "9"
      ]
     },
     "execution_count": 49,
     "metadata": {},
     "output_type": "execute_result"
    }
   ],
   "source": [
    "a=['a','quick','brown','fox','jumps','over','the','lazy','dog']\n",
    "count=0\n",
    "for i in a:           #2) count the total letters and count of distinct letters in the list\n",
    "    count=count+1\n",
    "(count)"
   ]
  },
  {
   "cell_type": "code",
   "execution_count": 50,
   "id": "f10b8e21",
   "metadata": {},
   "outputs": [
    {
     "name": "stdout",
     "output_type": "stream",
     "text": [
      "['a', 'b', 'r', 'o', 'w', 'n', 'd', 'o', 'g', 'f', 'o', 'x', 'j', 'u', 'm', 'p', 's', 'l', 'a', 'z', 'y', 'o', 'v', 'e', 'r', 'q', 'u', 'i', 'c', 'k', 't', 'h', 'e']\n"
     ]
    },
    {
     "data": {
      "text/plain": [
       "33"
      ]
     },
     "execution_count": 50,
     "metadata": {},
     "output_type": "execute_result"
    }
   ],
   "source": [
    "l2=[]\n",
    "for i in l:\n",
    "    for k in i:\n",
    "        l2.append(k)\n",
    "print(l2)\n",
    "len(l2)"
   ]
  },
  {
   "cell_type": "markdown",
   "id": "7f45ed73",
   "metadata": {},
   "source": [
    "## q.2\n",
    "## Take a list containg only strings. Now, take a string input from user and rearrange the elements of the list according to the number of occurence of the string taken from user in the elements of the list. E.g.-\n",
    "\n",
    "## LIST : [\"no bun\",\"bug bun bug bun bug bug\",\"bunny bug\",\"buggy bug bug buggy\"]\n",
    "\n",
    "## STRING TAKEN : \"bug\"\n",
    "\n",
    "## OUTPUT LIST:[\"bug bun bug bun bug bug\",\"buggy bug bug buggy\",\"bunny bug\",\"no bun\"]"
   ]
  },
  {
   "cell_type": "code",
   "execution_count": null,
   "id": "4387ed62",
   "metadata": {},
   "outputs": [],
   "source": [
    "l= [\"no bun\",\"bug bun bug bun bug bug\",\"bunny bug\",\"buggy bug bug buggy\"]\n"
   ]
  },
  {
   "cell_type": "markdown",
   "id": "acc48755",
   "metadata": {},
   "source": [
    "## q.3 u need to lower all the characters in the given string   s = \"A man, A plan, A goodman:\" and remove all non-alphanumeric characters from the string and check after removing if the string is palindrome or not."
   ]
  },
  {
   "cell_type": "code",
   "execution_count": 51,
   "id": "8cb081f0",
   "metadata": {},
   "outputs": [
    {
     "name": "stdout",
     "output_type": "stream",
     "text": [
      "a man, a plan, a goodman:\n",
      "amanaplanagoodman\n",
      "Not Palindrome \n"
     ]
    }
   ],
   "source": [
    "x=''\n",
    "s =\"A man, A plan, A goodman:\"\n",
    "l=s.lower()\n",
    "print(l)\n",
    "for k in l:\n",
    "    if k.isalnum():\n",
    "        x=x+k\n",
    "print(x)\n",
    "if x==x[::-1]:\n",
    "    print('Palindrome ')\n",
    "else:\n",
    "    print('Not Palindrome ')"
   ]
  },
  {
   "cell_type": "markdown",
   "id": "7b0bd6a0",
   "metadata": {},
   "source": [
    "### q.4\n",
    "\n",
    "### a) wap  to remove punctuation mark from list of string using list comprehension\n",
    "l=[\"hello'\",1'2,22'4,\"hi how'r u\"]\n",
    "\n",
    "## b) Use a list comprehension to square each odd number in a list. The list is input by a sequence of comma-separated numbers.\n",
    "Suppose the input is supplied to the program: 1,2,3,4,5,6,7,8,9\n",
    "Then, the output should be: 1, 3, 5, 7, 9 "
   ]
  },
  {
   "cell_type": "code",
   "execution_count": 63,
   "id": "d63defbc",
   "metadata": {},
   "outputs": [
    {
     "ename": "SyntaxError",
     "evalue": "invalid syntax (3857831278.py, line 2)",
     "output_type": "error",
     "traceback": [
      "\u001b[1;36m  Input \u001b[1;32mIn [63]\u001b[1;36m\u001b[0m\n\u001b[1;33m    [i=i.replace(\"\",\"\")for i in l:]\u001b[0m\n\u001b[1;37m      ^\u001b[0m\n\u001b[1;31mSyntaxError\u001b[0m\u001b[1;31m:\u001b[0m invalid syntax\n"
     ]
    }
   ],
   "source": [
    "l=[\"hello'\",\"1'2\",\"22'4\",\"hi how'r u\"]#a) wap to remove punctuation mark from list of string using list comprehension\n",
    "[i=i.replace(\"\",\"\")for i in l:]\n"
   ]
  },
  {
   "cell_type": "code",
   "execution_count": 53,
   "id": "1e89f51f",
   "metadata": {},
   "outputs": [
    {
     "name": "stdout",
     "output_type": "stream",
     "text": [
      "[1, 9, 25, 49, 81]\n"
     ]
    }
   ],
   "source": [
    "l=1,2,3,4,5,6,7,8,9            #b) Use a list comprehension to square each odd number in a list. The list is input by a sequence of comma-separated numbers.¶\n",
    "p=[i*i for i in l if i%2!=0]\n",
    "print(p)"
   ]
  },
  {
   "cell_type": "markdown",
   "id": "2931f976",
   "metadata": {},
   "source": [
    "### q.5\n",
    "\n",
    "### Find Longest String in List\n",
    "l=[\"hello\",\"madrid\",\"hi how r u\",\"i m doing good u tell\",\"meet\"]"
   ]
  },
  {
   "cell_type": "code",
   "execution_count": 54,
   "id": "d761d1e4",
   "metadata": {},
   "outputs": [
    {
     "data": {
      "text/plain": [
       "'i m doing good u tell'"
      ]
     },
     "execution_count": 54,
     "metadata": {},
     "output_type": "execute_result"
    }
   ],
   "source": [
    "l=[\"hello\",\"madrid\",\"hi how r u\",\"i m doing good u tell\",\"meet\"]\n",
    "max(l, key=len)"
   ]
  },
  {
   "cell_type": "markdown",
   "id": "1ddc1a11",
   "metadata": {},
   "source": [
    "## q.6\n",
    "## Display the characters at an odd position in string input by User."
   ]
  },
  {
   "cell_type": "code",
   "execution_count": 55,
   "id": "f5722869",
   "metadata": {},
   "outputs": [
    {
     "name": "stdout",
     "output_type": "stream",
     "text": [
      "Enter the characters  \n"
     ]
    }
   ],
   "source": [
    "x=input(\"Enter the characters  \")\n"
   ]
  },
  {
   "cell_type": "markdown",
   "id": "c8743a00",
   "metadata": {},
   "source": [
    "## q.7\n",
    "## Extract file name in this /document/imp/salary.txt"
   ]
  },
  {
   "cell_type": "code",
   "execution_count": null,
   "id": "1064f40d",
   "metadata": {},
   "outputs": [],
   "source": []
  },
  {
   "cell_type": "markdown",
   "id": "56c194cb",
   "metadata": {},
   "source": [
    "### q.8\n",
    "### Write a program which accepts a sequence of comma-separated numbers from console and generate a list and a tuple which contains every number.\n",
    "Suppose the input is supplied to the program: 34, 67, 55, 33, 12, 98\n",
    "\n",
    "\n",
    "Then, the output should be:\n",
    "\n",
    "\n",
    "['34', '67', '55', '33', '12', '98'] and ('34', '67', '55', '33', '12', '98')"
   ]
  },
  {
   "cell_type": "code",
   "execution_count": 56,
   "id": "ebc409bf",
   "metadata": {},
   "outputs": [
    {
     "name": "stdout",
     "output_type": "stream",
     "text": [
      "['34', '67', '55', '33', '12', '98']\n",
      "('34', '67', '55', '33', '12', '98')\n"
     ]
    }
   ],
   "source": [
    "k=[]\n",
    "v=34, 67, 55, 33, 12, 98\n",
    "for m in v:\n",
    "    x=str(m)\n",
    "    k.append(x)\n",
    "print(k)\n",
    "print(tuple(k))"
   ]
  },
  {
   "cell_type": "markdown",
   "id": "9b294f62",
   "metadata": {},
   "source": [
    "### q. 9\n",
    "\n",
    "### Write a program to display second largest element of the list entered by user "
   ]
  },
  {
   "cell_type": "code",
   "execution_count": 57,
   "id": "f33f9c67",
   "metadata": {},
   "outputs": [
    {
     "name": "stdout",
     "output_type": "stream",
     "text": [
      "brown\n"
     ]
    }
   ],
   "source": [
    "l=['a','quick','brown','fox','jumps','over','the','lazy','dog']\n",
    "l.sort()\n",
    "print(l[1])"
   ]
  },
  {
   "cell_type": "markdown",
   "id": "101a5d32",
   "metadata": {},
   "source": [
    "### q.10\n",
    "\n",
    "### Write a program to display the most, second most and least frequent word of the list\n",
    "\n",
    "l=[\"abc\",\"bac\",\"abc\",\"abb\",\"abb\",\"abb\"]"
   ]
  },
  {
   "cell_type": "code",
   "execution_count": 58,
   "id": "374f253a",
   "metadata": {},
   "outputs": [
    {
     "ename": "AttributeError",
     "evalue": "'list' object has no attribute 'max'",
     "output_type": "error",
     "traceback": [
      "\u001b[1;31m---------------------------------------------------------------------------\u001b[0m",
      "\u001b[1;31mAttributeError\u001b[0m                            Traceback (most recent call last)",
      "Input \u001b[1;32mIn [58]\u001b[0m, in \u001b[0;36m<cell line: 2>\u001b[1;34m()\u001b[0m\n\u001b[0;32m      1\u001b[0m l\u001b[38;5;241m=\u001b[39m[\u001b[38;5;124m\"\u001b[39m\u001b[38;5;124mabc\u001b[39m\u001b[38;5;124m\"\u001b[39m,\u001b[38;5;124m\"\u001b[39m\u001b[38;5;124mbac\u001b[39m\u001b[38;5;124m\"\u001b[39m,\u001b[38;5;124m\"\u001b[39m\u001b[38;5;124mabc\u001b[39m\u001b[38;5;124m\"\u001b[39m,\u001b[38;5;124m\"\u001b[39m\u001b[38;5;124mabb\u001b[39m\u001b[38;5;124m\"\u001b[39m,\u001b[38;5;124m\"\u001b[39m\u001b[38;5;124mabb\u001b[39m\u001b[38;5;124m\"\u001b[39m,\u001b[38;5;124m\"\u001b[39m\u001b[38;5;124mabb\u001b[39m\u001b[38;5;124m\"\u001b[39m]\n\u001b[1;32m----> 2\u001b[0m \u001b[43ml\u001b[49m\u001b[38;5;241;43m.\u001b[39;49m\u001b[43mmax\u001b[49m()\n\u001b[0;32m      3\u001b[0m l\n",
      "\u001b[1;31mAttributeError\u001b[0m: 'list' object has no attribute 'max'"
     ]
    }
   ],
   "source": [
    "l=[\"abc\",\"bac\",\"abc\",\"abb\",\"abb\",\"abb\"]\n",
    "l.max()\n",
    "l"
   ]
  },
  {
   "cell_type": "markdown",
   "id": "aefbe971",
   "metadata": {},
   "source": [
    "## q.15 Arrange the string such that lowercases should come first. Eg: MadrID – adrIDM"
   ]
  },
  {
   "cell_type": "code",
   "execution_count": 65,
   "id": "376fb5be",
   "metadata": {},
   "outputs": [
    {
     "name": "stdout",
     "output_type": "stream",
     "text": [
      "adrIDM\n"
     ]
    }
   ],
   "source": [
    "f=\"MadrID\"\n",
    "a=f[0]\n",
    "i=f[1:]\n",
    "print(str(i+a))"
   ]
  },
  {
   "cell_type": "markdown",
   "id": "a71c56c0",
   "metadata": {},
   "source": [
    "### q.11\n",
    "### Write a program that calculates and prints the value according to the given formula:\n",
    "Q = Square root of [(2 * C * D)/H]\n",
    "\n",
    "\n",
    "Following are the fixed values of C and H: C is 50. H is 30."
   ]
  },
  {
   "cell_type": "code",
   "execution_count": 64,
   "id": "797c7615",
   "metadata": {},
   "outputs": [
    {
     "name": "stdout",
     "output_type": "stream",
     "text": [
      "enter the D 5\n",
      "8.333333333333334\n"
     ]
    }
   ],
   "source": [
    "#c=50\n",
    "#h=30 fixed\n",
    "D=int(input('enter the D '))\n",
    "Q=(1/2)*(2*50*D/30)\n",
    "print(Q)"
   ]
  },
  {
   "cell_type": "markdown",
   "id": "60be549b",
   "metadata": {},
   "source": [
    "## q.12\n",
    "### wap to place \"hello\" at even index of string.\n",
    "\n",
    "eg: string :  \"madrid\"\n",
    "\n",
    "output:    helloahellorhellod"
   ]
  },
  {
   "cell_type": "code",
   "execution_count": 61,
   "id": "e6e99e46",
   "metadata": {},
   "outputs": [
    {
     "name": "stdout",
     "output_type": "stream",
     "text": [
      "['madrid']\n"
     ]
    }
   ],
   "source": [
    "l=['madrid']\n",
    "print(l)"
   ]
  },
  {
   "cell_type": "markdown",
   "id": "4aeb1551",
   "metadata": {},
   "source": [
    "### q.13\n",
    "## Write a program that accepts a sequence of whitespace separated words as input and prints the words after removing all duplicate words and sorting them alphanumerically.\n",
    "Suppose the input is supplied to the program: hello world and practice makes perfect and hello world again"
   ]
  },
  {
   "cell_type": "markdown",
   "id": "3862c682",
   "metadata": {},
   "source": [
    "## q.14\n",
    "#### You are required to write a program to sort the (name, age, score) tuples by ascending order where name is string, age and height are numbers. The tuples are input by console. The sort criteria is: \n",
    "1: Sort based on name; \n",
    "2: Then sort based on age; \n",
    "3: Then sort by score. \n",
    "\n",
    " \n",
    "The priority is that name > age > score. \n",
    "\n",
    "\n",
    "If the following tuples are given as input to the program: \n",
    "\n",
    "\n",
    "Tom,19,80 \n",
    "\n",
    "John,20,90 \n",
    "\n",
    "Jony,17,91\n",
    "\n",
    "Jony,17,93 \n",
    "\n",
    "Json,21,85 \n",
    "\n",
    "\n",
    "Then, the output of the program should be: \n",
    "[('John', '20', '90'), ('Jony', '17', '91'), ('Jony', '17', '93'), ('Json', '21', '85'), ('Tom', '19', '80')] "
   ]
  },
  {
   "cell_type": "code",
   "execution_count": null,
   "id": "7399365f",
   "metadata": {},
   "outputs": [],
   "source": []
  },
  {
   "cell_type": "code",
   "execution_count": null,
   "id": "d6a5a385",
   "metadata": {},
   "outputs": [],
   "source": []
  }
 ],
 "metadata": {
  "kernelspec": {
   "display_name": "Python 3 (ipykernel)",
   "language": "python",
   "name": "python3"
  },
  "language_info": {
   "codemirror_mode": {
    "name": "ipython",
    "version": 3
   },
   "file_extension": ".py",
   "mimetype": "text/x-python",
   "name": "python",
   "nbconvert_exporter": "python",
   "pygments_lexer": "ipython3",
   "version": "3.9.12"
  }
 },
 "nbformat": 4,
 "nbformat_minor": 5
}
